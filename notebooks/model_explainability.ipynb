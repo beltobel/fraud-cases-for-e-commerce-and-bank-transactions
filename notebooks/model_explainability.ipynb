{
 "cells": [
  {
   "cell_type": "code",
   "execution_count": null,
   "id": "d9fa78cb",
   "metadata": {},
   "outputs": [],
   "source": [
    "import shap\n",
    "\n",
    "# Fit your best model (example: Random Forest for creditcard_data)\n",
    "rf_credit = RandomForestClassifier(n_estimators=100, class_weight='balanced', random_state=42)\n",
    "rf_credit.fit(X_train_credit, y_train_credit)\n",
    "\n",
    "# Create SHAP explainer\n",
    "explainer = shap.TreeExplainer(rf_credit)\n",
    "shap_values = explainer.shap_values(X_test_credit)\n",
    "\n",
    "# Summary Plot (global feature importance)\n",
    "shap.summary_plot(shap_values[1], X_test_credit, plot_type=\"bar\")  # For class 1 (fraud)\n",
    "\n",
    "# Detailed Summary Plot\n",
    "shap.summary_plot(shap_values[1], X_test_credit)\n",
    "\n",
    "# Force Plot (local explanation for one prediction)\n",
    "i = 0  # Index of the sample to explain\n",
    "shap.initjs()\n",
    "shap.force_plot(explainer.expected_value[1], shap_values[1][i], X_test_credit.iloc[i])"
   ]
  }
 ],
 "metadata": {
  "language_info": {
   "name": "python"
  }
 },
 "nbformat": 4,
 "nbformat_minor": 5
}
